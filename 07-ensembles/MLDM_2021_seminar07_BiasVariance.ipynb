{
 "cells": [
  {
   "cell_type": "markdown",
   "metadata": {},
   "source": [
    "<a href=\"https://colab.research.google.com/github/HSE-LAMBDA/MLDM-2021/blob/master/07-ensembles/MLDM_2021_seminar07_BiasVariance.ipynb\" target=\"_parent\"><img src=\"https://colab.research.google.com/assets/colab-badge.svg\" alt=\"Open In Colab\"/></a>"
   ]
  },
  {
   "cell_type": "markdown",
   "metadata": {
    "id": "ecjpqpMok8eh"
   },
   "source": [
    "# Bias-Variance decomposition"
   ]
  },
  {
   "cell_type": "code",
   "execution_count": null,
   "metadata": {
    "id": "fPtlnBa24uv8"
   },
   "outputs": [],
   "source": [
    "import numpy as np\n",
    "import matplotlib.pyplot as plt"
   ]
  },
  {
   "cell_type": "code",
   "execution_count": null,
   "metadata": {
    "id": "TPl1NddU45kV"
   },
   "outputs": [],
   "source": [
    "def true_dep(x):\n",
    "  return np.cos((x - 0.2)**2) + 0.2 / (1 + 50 * (x - 0.3)**2)\n",
    "\n",
    "x_true = np.linspace(0, 1, 100)\n",
    "y_true = true_dep(x_true)\n",
    "\n",
    "def generate_n_datasets(num_datasets, dataset_length, noise_power=0.02):\n",
    "  shape = (num_datasets, dataset_length, 1)\n",
    "  x = np.random.uniform(size=shape)\n",
    "  y = true_dep(x) + np.random.normal(scale=noise_power, size=shape)\n",
    "  return x, y"
   ]
  },
  {
   "cell_type": "code",
   "execution_count": null,
   "metadata": {
    "colab": {
     "base_uri": "https://localhost:8080/",
     "height": 264
    },
    "id": "AMq2dk0b7KAN",
    "outputId": "8b0dbf00-cc4b-4fb5-e3f0-132bcd68b83f"
   },
   "outputs": [],
   "source": [
    "x, y = generate_n_datasets(1, 30)\n",
    "plt.scatter(x.squeeze(), y.squeeze(), s=20, c='orange')\n",
    "plt.plot(x_true, y_true, c='c', linewidth=1.5);"
   ]
  },
  {
   "cell_type": "code",
   "execution_count": null,
   "metadata": {
    "id": "XmhwKmCb9IGM"
   },
   "outputs": [],
   "source": [
    "from copy import deepcopy\n",
    "from tqdm import tqdm, trange"
   ]
  },
  {
   "cell_type": "code",
   "execution_count": null,
   "metadata": {
    "id": "9rWsmqAu8NDm"
   },
   "outputs": [],
   "source": [
    "def calc_bias2_variance(model, datasets_X, datasets_y):\n",
    "  preds = []\n",
    "  for X, y in tqdm(zip(datasets_X, datasets_y), total=len(datasets_X)):\n",
    "    m = deepcopy(model)\n",
    "    m.fit(X, y.ravel())\n",
    "    preds.append(m.predict(x_true[:,np.newaxis]).squeeze())\n",
    "  preds = np.array(preds)\n",
    "  mean_pred = <YOUR CODE>\n",
    "  bias2 = <YOUR CODE>\n",
    "  variance = <YOUR CODE>\n",
    "\n",
    "  return bias2, variance, preds"
   ]
  },
  {
   "cell_type": "code",
   "execution_count": null,
   "metadata": {
    "id": "mO6xg7VB-fg-"
   },
   "outputs": [],
   "source": [
    "from sklearn.linear_model import LinearRegression\n",
    "from sklearn.pipeline import Pipeline\n",
    "from sklearn.preprocessing import PolynomialFeatures"
   ]
  },
  {
   "cell_type": "code",
   "execution_count": null,
   "metadata": {
    "colab": {
     "base_uri": "https://localhost:8080/"
    },
    "id": "3zerleLK-pvJ",
    "outputId": "28f9ed80-076f-4b3a-cd1a-bfbf52d8b68e"
   },
   "outputs": [],
   "source": [
    "powers = np.arange(1, 9)\n",
    "\n",
    "bias2, variance, preds = [], [], []\n",
    "for p in powers:\n",
    "  model = Pipeline([\n",
    "      ('poly', PolynomialFeatures(degree=p)),\n",
    "      ('linear', LinearRegression())\n",
    "  ])\n",
    "\n",
    "  b2, v, p = calc_bias2_variance(model, *generate_n_datasets(1000, 20))\n",
    "  bias2.append(b2)\n",
    "  variance.append(v)\n",
    "  preds.append(p)\n",
    "\n",
    "bias2 = np.array(bias2)\n",
    "variance = np.array(variance)"
   ]
  },
  {
   "cell_type": "code",
   "execution_count": null,
   "metadata": {
    "colab": {
     "base_uri": "https://localhost:8080/",
     "height": 462
    },
    "id": "LvTGdDn6hJ5n",
    "outputId": "5b29371a-c9a4-4cfb-b126-c9dde3e0ebdf"
   },
   "outputs": [],
   "source": [
    "ncols = 4\n",
    "nrows = int(np.ceil(len(powers) / ncols))\n",
    "\n",
    "plt.figure(figsize=(18, 3.5 * nrows))\n",
    "\n",
    "yrange = y_true.max() - y_true.min()\n",
    "\n",
    "for i, (pred, pow) in tqdm(enumerate(zip(preds, powers), 1)):\n",
    "  plt.subplot(nrows, ncols, i)\n",
    "  for p in pred[np.random.choice(len(pred), size=200, replace=False)]:\n",
    "    plt.plot(x_true, p, linewidth=0.05, c='b');\n",
    "  plt.plot(x_true, y_true, linewidth=3, label='Truth', c='r')\n",
    "  plt.ylim(y_true.min() - 0.5 * yrange, y_true.max() + 0.5 * yrange)\n",
    "  plt.title('power = {}'.format(pow))\n",
    "  plt.legend();"
   ]
  },
  {
   "cell_type": "code",
   "execution_count": null,
   "metadata": {
    "colab": {
     "base_uri": "https://localhost:8080/",
     "height": 278
    },
    "id": "FCYG8jE6fxf2",
    "outputId": "8e70b55c-6148-4503-b2fc-1c4c2e770043"
   },
   "outputs": [],
   "source": [
    "plt.plot(powers, bias2.mean(axis=1), label='$bias^2$')\n",
    "plt.plot(powers, variance.mean(axis=1), label='variance')\n",
    "plt.legend()\n",
    "plt.yscale('log')\n",
    "plt.xlabel('power');"
   ]
  },
  {
   "cell_type": "code",
   "execution_count": null,
   "metadata": {
    "id": "pT2vwdYlHYOD"
   },
   "outputs": [],
   "source": [
    "from sklearn.ensemble import BaggingRegressor\n",
    "from sklearn.tree import DecisionTreeRegressor"
   ]
  },
  {
   "cell_type": "code",
   "execution_count": null,
   "metadata": {
    "colab": {
     "base_uri": "https://localhost:8080/"
    },
    "id": "I8beb53jQoRR",
    "outputId": "b384dbe2-4c41-4ecd-f853-69be184599eb"
   },
   "outputs": [],
   "source": [
    "n = [1, 2, 5, 20]\n",
    "\n",
    "bias2, variance, preds = [], [], []\n",
    "for p in n:\n",
    "  model = BaggingRegressor(DecisionTreeRegressor(min_samples_leaf=5), verbose=0, n_jobs = -1, n_estimators=p)\n",
    "  b2, v, p = calc_bias2_variance(model, *generate_n_datasets(400, 20))\n",
    "  bias2.append(b2)\n",
    "  variance.append(v)\n",
    "  preds.append(p)\n",
    "bias2 = np.array(bias2)\n",
    "variance = np.array(variance)"
   ]
  },
  {
   "cell_type": "code",
   "execution_count": null,
   "metadata": {
    "colab": {
     "base_uri": "https://localhost:8080/",
     "height": 298
    },
    "id": "QUueR-AXgbzz",
    "outputId": "c81ce220-afd2-4dda-dc42-2938d7a1d18e"
   },
   "outputs": [],
   "source": [
    "ncols = 2\n",
    "nrows = int(np.ceil(len(n) / ncols))\n",
    "\n",
    "plt.figure(figsize=(25, 4 * nrows))\n",
    "\n",
    "yrange = y_true.max() - y_true.min()\n",
    "\n",
    "for i, (pred, pow) in tqdm(enumerate(zip(preds, n), 1)):\n",
    "  plt.subplot(nrows, ncols, i)\n",
    "  for p in pred[np.random.choice(len(pred), size=200, replace=False)]:\n",
    "    plt.plot(x_true, p, linewidth=0.1, c='b');\n",
    "  plt.plot(x_true, y_true, linewidth=3, label='Truth', c='r')\n",
    "  plt.ylim(y_true.min() - 0.5 * yrange, y_true.max() + 0.5 * yrange)\n",
    "  plt.title('n_estimators - {}'.format(int(pow)))\n",
    "  plt.legend();\n",
    "  "
   ]
  },
  {
   "cell_type": "code",
   "execution_count": null,
   "metadata": {
    "colab": {
     "base_uri": "https://localhost:8080/",
     "height": 278
    },
    "id": "TPVPGVrWRjjz",
    "outputId": "1dfd7410-3b9d-4ba3-dcf6-6ac79b417fa5"
   },
   "outputs": [],
   "source": [
    "plt.plot(n, np.array(bias2).mean(axis=1), label='$bias^2$')\n",
    "plt.plot(n, np.array(variance).mean(axis=1), label='variance')\n",
    "plt.legend()\n",
    "plt.yscale('log')\n",
    "plt.xlabel('The number of base estimators');"
   ]
  },
  {
   "cell_type": "code",
   "execution_count": null,
   "metadata": {
    "id": "FMA4OJQibIQh"
   },
   "outputs": [],
   "source": []
  }
 ],
 "metadata": {
  "colab": {
   "collapsed_sections": [],
   "name": "MLatFIAN2021-seminar07-BiasVariance_bagging.ipynb",
   "provenance": []
  },
  "kernelspec": {
   "display_name": "Python 3",
   "language": "python",
   "name": "python3"
  },
  "language_info": {
   "codemirror_mode": {
    "name": "ipython",
    "version": 3
   },
   "file_extension": ".py",
   "mimetype": "text/x-python",
   "name": "python",
   "nbconvert_exporter": "python",
   "pygments_lexer": "ipython3",
   "version": "3.8.5"
  }
 },
 "nbformat": 4,
 "nbformat_minor": 1
}
