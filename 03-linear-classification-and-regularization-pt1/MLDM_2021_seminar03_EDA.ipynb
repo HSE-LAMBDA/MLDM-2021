{
 "cells": [
  {
   "cell_type": "markdown",
   "metadata": {},
   "source": [
    "<a href=\"https://colab.research.google.com/github/HSE-LAMBDA/MLDM-2021/blob/master/03-linear-classification-and-regularization-pt1/MLDM_2021_seminar03_EDA.ipynb\" target=\"_parent\"><img src=\"https://colab.research.google.com/assets/colab-badge.svg\" alt=\"Open In Colab\"/></a>"
   ]
  },
  {
   "cell_type": "code",
   "execution_count": null,
   "metadata": {
    "id": "5bJev0_YS9pJ"
   },
   "outputs": [],
   "source": [
    "#!pip install folium"
   ]
  },
  {
   "cell_type": "code",
   "execution_count": null,
   "metadata": {
    "id": "VeZeVIcaB0mv"
   },
   "outputs": [],
   "source": [
    "#!pip install geopandas"
   ]
  },
  {
   "cell_type": "code",
   "execution_count": null,
   "metadata": {},
   "outputs": [],
   "source": [
    "#!wget https://raw.githubusercontent.com/HSE-LAMBDA/MLDM-2021/main/03-linear-classification-and-regularization-pt1/EDA_dataset.zip"
   ]
  },
  {
   "cell_type": "code",
   "execution_count": null,
   "metadata": {},
   "outputs": [],
   "source": [
    "#!unzip EDA_dataset"
   ]
  },
  {
   "cell_type": "code",
   "execution_count": null,
   "metadata": {
    "id": "eRlbpfp4jujW"
   },
   "outputs": [],
   "source": [
    "%matplotlib inline\n",
    "import numpy as np\n",
    "import pandas as pd\n",
    "import branca.colormap as cm_b\n",
    "import matplotlib.pyplot as plt\n",
    "import matplotlib.cm as cm\n",
    "from scipy.stats import norm, normaltest, lognorm\n",
    "from sklearn.linear_model import LinearRegression\n",
    "from scipy.interpolate import interpn\n",
    "import itertools\n",
    "import folium\n",
    "import glob"
   ]
  },
  {
   "cell_type": "markdown",
   "metadata": {},
   "source": [
    "The main focus of this notebook is Exploratory Data Analysis (EDA) involving geodata. All the source datasets are taken from RUElectionData (https://t.me/RUElectionData). These data sources may be not precise, because these documents are not official ones. Thus, we use them just as an example of possible data to perform the EDA and plotting without any conclusion. "
   ]
  },
  {
   "cell_type": "markdown",
   "metadata": {},
   "source": [
    "Let's load the data containing coordinates of the Election commissions (УИК)."
   ]
  },
  {
   "cell_type": "code",
   "execution_count": null,
   "metadata": {},
   "outputs": [],
   "source": [
    "uiks = pd.read_json('./uiklinks_2021_09_19_ЦИК_России_Выборы_депутатов_Государственной', lines=True)"
   ]
  },
  {
   "cell_type": "code",
   "execution_count": null,
   "metadata": {},
   "outputs": [],
   "source": [
    "uiks.head()"
   ]
  },
  {
   "cell_type": "markdown",
   "metadata": {},
   "source": [
    "We can define a new column using `apply` method that invokes a function on values of uik Series."
   ]
  },
  {
   "cell_type": "code",
   "execution_count": null,
   "metadata": {},
   "outputs": [],
   "source": [
    "uiks['fixed_name'] = uiks.name.apply(lambda x: str(x).replace('Участковая избирательная комиссия','УИК'))"
   ]
  },
  {
   "cell_type": "markdown",
   "metadata": {},
   "source": [
    "You can define functions before using `apply` as well."
   ]
  },
  {
   "cell_type": "code",
   "execution_count": null,
   "metadata": {},
   "outputs": [],
   "source": [
    "def get_lat(x):\n",
    "    try:\n",
    "        return x['lat'].replace(' ','')\n",
    "    except:\n",
    "        return np.nan"
   ]
  },
  {
   "cell_type": "code",
   "execution_count": null,
   "metadata": {},
   "outputs": [],
   "source": [
    "def get_lon(x):\n",
    "    try:\n",
    "        return x['lon'].replace(' ','')\n",
    "    except:\n",
    "        return np.nan"
   ]
  },
  {
   "cell_type": "code",
   "execution_count": null,
   "metadata": {},
   "outputs": [],
   "source": [
    "def is_Moscow(x):\n",
    "    try:\n",
    "        return 1 if 'город Москва' in x['address'] else 0\n",
    "    except:\n",
    "        return np.nan"
   ]
  },
  {
   "cell_type": "code",
   "execution_count": null,
   "metadata": {},
   "outputs": [],
   "source": [
    "uiks['lat'] = uiks.address.apply(get_lat).astype(float)"
   ]
  },
  {
   "cell_type": "code",
   "execution_count": null,
   "metadata": {},
   "outputs": [],
   "source": [
    "uiks['lon'] = uiks.address.apply(get_lon).astype(float)"
   ]
  },
  {
   "cell_type": "code",
   "execution_count": null,
   "metadata": {},
   "outputs": [],
   "source": [
    "uiks['isMoscow'] = uiks.address.apply(is_Moscow)"
   ]
  },
  {
   "cell_type": "markdown",
   "metadata": {},
   "source": [
    "Is it possible to achieve same results calling `apply` once?"
   ]
  },
  {
   "cell_type": "code",
   "execution_count": null,
   "metadata": {},
   "outputs": [],
   "source": [
    "#<YOUR CODE HERE>"
   ]
  },
  {
   "cell_type": "markdown",
   "metadata": {},
   "source": [
    "Now, let's have a look at Cheryomushki District data (you may choose any other district as well)."
   ]
  },
  {
   "cell_type": "code",
   "execution_count": null,
   "metadata": {},
   "outputs": [],
   "source": [
    "cher_data = pd.read_csv('./Moscow/Город Москва – Черемушкинский.tsv', sep = '\\t')"
   ]
  },
  {
   "cell_type": "code",
   "execution_count": null,
   "metadata": {},
   "outputs": [],
   "source": [
    "cher_data.head()"
   ]
  },
  {
   "cell_type": "markdown",
   "metadata": {},
   "source": [
    "Using `uiks` dataframe we can map commissions according to their coordinates via `folium`."
   ]
  },
  {
   "cell_type": "code",
   "execution_count": null,
   "metadata": {},
   "outputs": [],
   "source": [
    "# Here we create a Map object, define starting location that is used during the visualization\n",
    "m_1 = folium.Map(\n",
    "    location=[55.674093, 37.620407],\n",
    "    zoom_start=11\n",
    ")"
   ]
  },
  {
   "cell_type": "code",
   "execution_count": null,
   "metadata": {},
   "outputs": [],
   "source": [
    "uiks_list = cher_data.uik.unique()"
   ]
  },
  {
   "cell_type": "code",
   "execution_count": null,
   "metadata": {},
   "outputs": [],
   "source": [
    "# Now we can add markers using coordinates\n",
    "mask = (uiks['isMoscow'] == 1)\n",
    "for place in uiks_list:\n",
    "    try:\n",
    "        folium.Marker(location=[uiks[(uiks.fixed_name == place) & mask]['lat'].values[0],\n",
    "                                uiks[(uiks.fixed_name == place) & mask]['lon'].values[0]],\n",
    "                      popup=str(place)).add_to(m_1)\n",
    "    except:\n",
    "# Have a look on the comissions without coordinates. Do you have any ideads about them? What do they have in common?        \n",
    "        print(place)"
   ]
  },
  {
   "cell_type": "code",
   "execution_count": null,
   "metadata": {},
   "outputs": [],
   "source": [
    "m_1 # Executing this cell you call an interactive map"
   ]
  },
  {
   "cell_type": "markdown",
   "metadata": {},
   "source": [
    "It's time to have a look at the results."
   ]
  },
  {
   "cell_type": "code",
   "execution_count": null,
   "metadata": {},
   "outputs": [],
   "source": [
    "candidates = cher_data.columns[17:-1] # These columns correspond to candtidates' names"
   ]
  },
  {
   "cell_type": "code",
   "execution_count": null,
   "metadata": {},
   "outputs": [],
   "source": [
    "votes = cher_data[candidates].sum()"
   ]
  },
  {
   "cell_type": "code",
   "execution_count": null,
   "metadata": {},
   "outputs": [],
   "source": [
    "# This function provides us with labes\n",
    "def make_autopct(values):\n",
    "    def my_autopct(pct):\n",
    "        total = sum(values)\n",
    "        val = int(round(pct*total/100.0))\n",
    "        return '{p:.2f}%  ({v:d})'.format(p=pct,v=val)\n",
    "    return my_autopct\n",
    "\n",
    "plt.figure(figsize=(18,18))\n",
    "\n",
    "plt.pie(votes.sort_values(),\n",
    "        labels=votes.sort_values().index,\n",
    "        autopct=make_autopct(votes.sort_values()),\n",
    "        wedgeprops={'linewidth': 3.0, 'edgecolor': 'white'},\n",
    "        pctdistance=0.8,\n",
    "        radius=0.8,\n",
    "        startangle=0,\n",
    "        textprops=dict(color='k', fontsize=12));"
   ]
  },
  {
   "cell_type": "markdown",
   "metadata": {},
   "source": [
    "What about turnout?"
   ]
  },
  {
   "cell_type": "code",
   "execution_count": null,
   "metadata": {},
   "outputs": [],
   "source": [
    "cher_data['turnout'] = (cher_data['Число действительных избирательных бюллетеней'] + \n",
    "                    cher_data['Число недействительных избирательных бюллетеней']) / cher_data['Число избирателей, внесенных в список избирателей на момент окончания голосования']  "
   ]
  },
  {
   "cell_type": "markdown",
   "metadata": {},
   "source": [
    "We can plot commissions with high turnout values."
   ]
  },
  {
   "cell_type": "code",
   "execution_count": null,
   "metadata": {},
   "outputs": [],
   "source": [
    "m_2 = folium.Map(\n",
    "    location=[55.674093, 37.620407],\n",
    "    zoom_start=11\n",
    ")"
   ]
  },
  {
   "cell_type": "code",
   "execution_count": null,
   "metadata": {},
   "outputs": [],
   "source": [
    "mask = (uiks['isMoscow'] == 1)\n",
    "for place in uiks_list:\n",
    "    temp_t = cher_data[(cher_data.uik == place)]['turnout'].values[0]\n",
    "    if temp_t > 0.4:\n",
    "        try:\n",
    "            folium.Marker(location=[uiks[(uiks.fixed_name == place) & mask]['lat'].values[0],\n",
    "                                                  uiks[(uiks.fixed_name == place) & mask]['lon'].values[0]],\n",
    "                          popup=place + ' ' + str(temp_t)[:4]).add_to(m_2)\n",
    "        except:\n",
    "            print(place)"
   ]
  },
  {
   "cell_type": "code",
   "execution_count": null,
   "metadata": {},
   "outputs": [],
   "source": [
    "m_2"
   ]
  },
  {
   "cell_type": "code",
   "execution_count": null,
   "metadata": {},
   "outputs": [],
   "source": [
    "cher_data[cher_data.uik == 'УИК №2366'].T"
   ]
  },
  {
   "cell_type": "markdown",
   "metadata": {},
   "source": [
    "Do you have any insight? Notice the number of votes."
   ]
  },
  {
   "cell_type": "code",
   "execution_count": null,
   "metadata": {},
   "outputs": [],
   "source": [
    "cher_data[cher_data.turnout > 0.8]"
   ]
  },
  {
   "cell_type": "markdown",
   "metadata": {},
   "source": [
    "Let's plot the pie once again, but now we drop commissions with high turnout values."
   ]
  },
  {
   "cell_type": "code",
   "execution_count": null,
   "metadata": {},
   "outputs": [],
   "source": [
    "votes_wo_5014 = cher_data[(~cher_data.uik.isin(cher_data[cher_data.turnout > 0.8].uik.values))][candidates].sum()"
   ]
  },
  {
   "cell_type": "code",
   "execution_count": null,
   "metadata": {},
   "outputs": [],
   "source": [
    "plt.figure(figsize=(18,18))\n",
    "plt.pie(votes_wo_5014.sort_values(),\n",
    "        labels=votes_wo_5014.sort_values().index,\n",
    "        autopct=make_autopct(votes_wo_5014.sort_values()),\n",
    "        wedgeprops={'linewidth': 3.0, 'edgecolor': 'white'},\n",
    "        pctdistance=0.8,\n",
    "        radius=0.8,\n",
    "        startangle=0,\n",
    "        textprops=dict(color='k', fontsize=12));"
   ]
  },
  {
   "cell_type": "markdown",
   "metadata": {},
   "source": [
    "Is there any relationship between the turnout and votes sharing? What can you say about the weights of LinearRegression models? "
   ]
  },
  {
   "cell_type": "code",
   "execution_count": null,
   "metadata": {
    "scrolled": false
   },
   "outputs": [],
   "source": [
    "k = 0\n",
    "\n",
    "fig, ax = plt.subplots(5,2,figsize=(20,25))\n",
    "cand_lin_reg = LinearRegression()\n",
    "\n",
    "for cand in candidates:\n",
    "    # A possible way to define the place of the current plot on the whole sublots space\n",
    "    i = k // 2\n",
    "    j = k % 2\n",
    "    \n",
    "    x = cher_data.turnout.fillna(0)\n",
    "    y = (cher_data[cand] / cher_data['Число действительных избирательных бюллетеней']).fillna(0)\n",
    "    \n",
    "    # This part makes 2d-histogram just a bit prettier\n",
    "    data , x_e, y_e = np.histogram2d( x, y, bins = (100,100), density = True )\n",
    "    z = interpn( ( 0.5*(x_e[1:] + x_e[:-1]), 0.5*(y_e[1:]+y_e[:-1]) ),\n",
    "                data,\n",
    "                np.vstack([x,y]).T,\n",
    "                method = \"splinef2d\",\n",
    "                bounds_error = False)\n",
    "    z[np.where(np.isnan(z))] = 0.0\n",
    "    idx = z.argsort()\n",
    "    x, y, z = x[idx], y[idx], z[idx]\n",
    "    \n",
    "    # Here we plot all the pairs of turnouts and fractions of votes\n",
    "    # using colors according to density\n",
    "    ax[i,j].scatter( x, y, c=z, )\n",
    "    cand_lin_reg.fit(x.values.reshape(-1, 1), y, cher_data[cand])    \n",
    "    ax[i,j].plot(x.sort_values(), cand_lin_reg.predict(x.sort_values().values.reshape(-1, 1)), c='purple')\n",
    "    ax[i,j].set_title(cand)\n",
    "    ax[i,j].set_xlabel('Voter turnout')\n",
    "    ax[i,j].set_ylabel('Votes Share')\n",
    "    plt.subplots_adjust(hspace = .3)\n",
    "    \n",
    "    k += 1\n",
    "plt.show();"
   ]
  },
  {
   "cell_type": "markdown",
   "metadata": {},
   "source": [
    "Now let's proceed to full Moscow data."
   ]
  },
  {
   "cell_type": "code",
   "execution_count": null,
   "metadata": {},
   "outputs": [],
   "source": [
    "# define the path to the directory contaning all the datasets\n",
    "path = './Moscow/'\n",
    "all_files = glob.glob(path + \"/*.tsv\")\n",
    "\n",
    "dfs = []\n",
    "\n",
    "# load the datasets\n",
    "for filename in all_files:\n",
    "    df = pd.read_csv(filename, index_col=None, header=0, sep = '\\t')\n",
    "    dfs.append(df)\n",
    "\n",
    "# merge all the datasets\n",
    "full_data = pd.concat(dfs, axis=0, ignore_index=True)"
   ]
  },
  {
   "cell_type": "code",
   "execution_count": null,
   "metadata": {},
   "outputs": [],
   "source": [
    "full_data.head()"
   ]
  },
  {
   "cell_type": "code",
   "execution_count": null,
   "metadata": {},
   "outputs": [],
   "source": [
    "full_data['turnout'] = (full_data['Число действительных избирательных бюллетеней'] + \n",
    "                        full_data['Число недействительных избирательных бюллетеней']) / full_data['Число избирателей, внесенных в список избирателей на момент окончания голосования']  "
   ]
  },
  {
   "cell_type": "markdown",
   "metadata": {},
   "source": [
    "Once again, let's plot commissions and use colors according to turnout."
   ]
  },
  {
   "cell_type": "code",
   "execution_count": null,
   "metadata": {},
   "outputs": [],
   "source": [
    "m_3 = folium.Map(\n",
    "    location=[55.674093, 37.620407],\n",
    "    zoom_start=9\n",
    ")"
   ]
  },
  {
   "cell_type": "code",
   "execution_count": null,
   "metadata": {},
   "outputs": [],
   "source": [
    "full_uiks_list = full_data.uik.unique()"
   ]
  },
  {
   "cell_type": "code",
   "execution_count": null,
   "metadata": {},
   "outputs": [],
   "source": [
    "colormap = cm_b.LinearColormap(colors=['orange','red',],vmin=0.5,vmax=1.)"
   ]
  },
  {
   "cell_type": "code",
   "execution_count": null,
   "metadata": {
    "scrolled": true
   },
   "outputs": [],
   "source": [
    "mask = (uiks['isMoscow'] == 1)\n",
    "for place in full_uiks_list:\n",
    "    cur_app = full_data[(full_data.uik == place)]['turnout'].values[0]\n",
    "    if cur_app > 0.5:\n",
    "        try:\n",
    "            radius = 10\n",
    "            folium.CircleMarker(radius=radius,\n",
    "                          location=[uiks[(uiks.fixed_name == place) & mask]['lat'].values[0],\n",
    "                                    uiks[(uiks.fixed_name == place) & mask]['lon'].values[0]],\n",
    "                          popup=place + ' ' + str(cur_app)[:4],\n",
    "                          fill=True, color=colormap(cur_app)).add_to(m_3)\n",
    "        except:\n",
    "            print(place)"
   ]
  },
  {
   "cell_type": "code",
   "execution_count": null,
   "metadata": {},
   "outputs": [],
   "source": [
    "m_3"
   ]
  },
  {
   "cell_type": "markdown",
   "metadata": {},
   "source": [
    "Have a look at linear models for top-14 Candidates according to number of votes."
   ]
  },
  {
   "cell_type": "code",
   "execution_count": null,
   "metadata": {
    "scrolled": false
   },
   "outputs": [],
   "source": [
    "k = 0\n",
    "\n",
    "fig, ax = plt.subplots(7,2,figsize=(20,28))\n",
    "cand_lin_reg = LinearRegression()\n",
    "full_res = full_data[full_data.columns[17:-1]].sum()\n",
    "\n",
    "for cand in full_res.drop('url').sort_values(ascending=False).index[:14]:\n",
    "    i = k // 2\n",
    "    j = k % 2\n",
    "    \n",
    "    temp_data = full_data[full_data.oik == full_data[full_data[cand] > 0].oik.values[0]].reset_index()\n",
    "    \n",
    "    x = temp_data.turnout.fillna(0)\n",
    "    y = (temp_data[cand] / temp_data['Число действительных избирательных бюллетеней']).fillna(0)\n",
    "    \n",
    "    data , x_e, y_e = np.histogram2d( x, y, bins = (100,100), density = True )\n",
    "    z = interpn((0.5*(x_e[1:] + x_e[:-1]),\n",
    "                0.5*(y_e[1:]+y_e[:-1])),\n",
    "                data , np.vstack([x,y]).T,\n",
    "                method = \"splinef2d\",\n",
    "                bounds_error = False)\n",
    "    z[np.where(np.isnan(z))] = 0.0\n",
    "    idx = z.argsort()\n",
    "    x, y, z = x[idx], y[idx], z[idx]\n",
    "    \n",
    "    ax[i,j].scatter( x, y, c=z)\n",
    "    cand_lin_reg.fit(x.values.reshape(-1, 1), y, temp_data[cand])    \n",
    "    ax[i,j].plot(x.sort_values(), cand_lin_reg.predict(x.sort_values().values.reshape(-1, 1)), c='purple')\n",
    "    ax[i,j].set_title(cand)\n",
    "    ax[i,j].set_xlabel('Voter turnout')\n",
    "    ax[i,j].set_ylabel('Votes Share')\n",
    "    plt.subplots_adjust(hspace = .3)\n",
    "    k += 1\n",
    "    \n",
    "plt.show();"
   ]
  },
  {
   "cell_type": "markdown",
   "metadata": {},
   "source": [
    "Now let's make a distribution plot of turnout of polling stations with a step 1%.\n"
   ]
  },
  {
   "cell_type": "code",
   "execution_count": null,
   "metadata": {},
   "outputs": [],
   "source": [
    "plt.figure(figsize=(17,7))\n",
    "plt.hist(full_data.turnout.fillna(0) * 100, bins=100, color='limegreen')\n",
    "plt.axvline(x=full_data.turnout.fillna(0).mean() * 100, ls='--', label='mean')\n",
    "plt.axvline(x=full_data.turnout.fillna(0).median() * 100, c='black', ls='--', label='median')\n",
    "plt.axvline(x=full_data.turnout.fillna(0).mode()[0] * 100, c='red', ls='--', label='mode')\n",
    "plt.axvline(x=full_data.turnout[full_data.turnout != 1.0].mode()[0] * 100, c='yellow', ls='--', label='mode without 100%')\n",
    "plt.title('Number of Polling places with given turnout across Moscow')\n",
    "plt.xlabel('Voter turnout in %')\n",
    "plt.ylabel('Number of Polling places')\n",
    "plt.xticks(np.linspace(0, 100, 21))\n",
    "plt.xlim(-1,101)\n",
    "plt.legend()\n",
    "plt.grid(color='grey', linestyle='-', linewidth=0.25, alpha=0.75)\n",
    "plt.show()"
   ]
  },
  {
   "cell_type": "markdown",
   "metadata": {},
   "source": [
    "Do the polling stations with a high turnout have a real impact? Lets plot of the number of voters related to specific turnout percentage with a step 0.1%"
   ]
  },
  {
   "cell_type": "code",
   "execution_count": null,
   "metadata": {
    "scrolled": false
   },
   "outputs": [],
   "source": [
    "pick_df = full_data[['Число действительных избирательных бюллетеней', 'Число недействительных избирательных бюллетеней', 'turnout']]\n",
    "pick_df = pick_df.sort_values('turnout')\n",
    "pick_df['turnout'] = pick_df['turnout'].round(3)\n",
    "pick_df = pick_df.groupby('turnout').sum()\n",
    "pick_df['size'] = pick_df.sum(axis=1)\n",
    "pick_df = pick_df.drop(['Число действительных избирательных бюллетеней', 'Число недействительных избирательных бюллетеней'], axis=1)\n",
    "\n",
    "plt.figure(figsize=(13,10))\n",
    "plt.plot(pick_df.index * 100, pick_df)\n",
    "plt.title('Number of voters related to turnout')\n",
    "plt.xlabel('Voter turnout in %')\n",
    "plt.ylabel('Number of present voters')\n",
    "plt.xticks(np.linspace(0, 100, 11), fontsize=10)\n",
    "plt.xlim(-1,100)\n",
    "plt.ylim(0)\n",
    "plt.grid(color='grey', linestyle='-', linewidth=0.25, alpha=0.75)\n",
    "plt.show()"
   ]
  },
  {
   "cell_type": "code",
   "execution_count": null,
   "metadata": {},
   "outputs": [],
   "source": [
    "ones = full_data[(full_data['Число действительных избирательных бюллетеней'] == \n",
    "                  full_data['Число избирателей, внесенных в список избирателей на момент окончания голосования'] )]"
   ]
  },
  {
   "cell_type": "code",
   "execution_count": null,
   "metadata": {},
   "outputs": [],
   "source": [
    "m_4 = folium.Map(\n",
    "    location=[55.674093, 37.620407],\n",
    "    zoom_start=11\n",
    ")"
   ]
  },
  {
   "cell_type": "code",
   "execution_count": null,
   "metadata": {},
   "outputs": [],
   "source": [
    "ones.uik.values"
   ]
  },
  {
   "cell_type": "code",
   "execution_count": null,
   "metadata": {
    "scrolled": true
   },
   "outputs": [],
   "source": [
    "mask = (uiks['isMoscow'] == 1)\n",
    "for place in ones.uik.values:\n",
    "    try:\n",
    "        radius = 10\n",
    "        folium.CircleMarker(radius=radius,\n",
    "                      location=[uiks[(uiks.fixed_name == place) & mask]['lat'].values[0],\n",
    "                                uiks[(uiks.fixed_name == place) & mask]['lon'].values[0]],\n",
    "                      popup=place,\n",
    "                      fill=True).add_to(m_4)\n",
    "    except:\n",
    "        print(place)"
   ]
  },
  {
   "cell_type": "code",
   "execution_count": null,
   "metadata": {},
   "outputs": [],
   "source": [
    "m_4"
   ]
  },
  {
   "cell_type": "markdown",
   "metadata": {},
   "source": [
    "Do these commissions really have important impact?"
   ]
  },
  {
   "cell_type": "code",
   "execution_count": null,
   "metadata": {},
   "outputs": [],
   "source": [
    "uiks[uiks.fixed_name.isin(ones.uik.values) & (uiks.isMoscow == 1)].address.values"
   ]
  },
  {
   "cell_type": "code",
   "execution_count": null,
   "metadata": {},
   "outputs": [],
   "source": [
    "ones['Число избирателей, внесенных в список избирателей на момент окончания голосования'].sum()"
   ]
  }
 ],
 "metadata": {
  "colab": {
   "collapsed_sections": [],
   "name": "MLDM_2021_seminar03_EDA",
   "provenance": []
  },
  "kernelspec": {
   "display_name": "Python 3 (ipykernel)",
   "language": "python",
   "name": "python3"
  },
  "language_info": {
   "codemirror_mode": {
    "name": "ipython",
    "version": 3
   },
   "file_extension": ".py",
   "mimetype": "text/x-python",
   "name": "python",
   "nbconvert_exporter": "python",
   "pygments_lexer": "ipython3",
   "version": "3.8.11"
  }
 },
 "nbformat": 4,
 "nbformat_minor": 1
}
